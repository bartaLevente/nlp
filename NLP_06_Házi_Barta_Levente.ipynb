{
  "nbformat": 4,
  "nbformat_minor": 0,
  "metadata": {
    "colab": {
      "provenance": []
    },
    "kernelspec": {
      "name": "python3",
      "display_name": "Python 3"
    },
    "language_info": {
      "name": "python"
    }
  },
  "cells": [
    {
      "cell_type": "markdown",
      "source": [
        "# Természetes nyelvfeldolgozás\n",
        "# PTE Gépi tanulás III.\n",
        "\n",
        "## 6. Gyakorlat\n",
        "### 2025. március 12.\n"
      ],
      "metadata": {
        "id": "MqD2ZFtg18zU"
      }
    },
    {
      "cell_type": "markdown",
      "source": [
        "#Feladat\n",
        "\n",
        "Töltsük le a telex (https://telex.hu/english?oldal=1) angol nyelvű oldaláról az első 10 cikket egy dataframe-be.\n"
      ],
      "metadata": {
        "id": "r_dT2zTvX1qP"
      }
    },
    {
      "cell_type": "markdown",
      "source": [
        "| Title                                             | Link                                                                                   | Text                                                      |\n",
        "|---------------------------------------------------|----------------------------------------------------------------------------------------|-----------------------------------------------------------|\n",
        "| Hungarian FM summons US ambassador over Biden’s ‘lies’ | [Link](https://telex.hu/english/2024/03/12/hungarian-fm-summons-us-ambassador-over-bidens-lies) | Hungary doesn't have to tolerate lies, even f...         |\n",
        "| Hungarian government only one to vote against ... | [Link](https://telex.hu/english/2024/03/12/hungarian-government-only-one-to-vote-against)   | Member states voted on a regulation on transpa...       |\n",
        "| Trump-admiring fake Twitter profile delivers p... | [Link](https://telex.hu/english/2024/03/12/trump-admiring-fake-twitter-profile-delivers-pro-russian-propaganda) | The perfect case for the newly established Sov...       |\n",
        "| Orbán: Trump is a legend                          | [Link](https://telex.hu/english/2024/03/11/orban-trump-is-a-legend)                        | \"He is indeed the seventh, which is a dangerou...       |\n",
        "| Set decorator Zsuzsa Mihalek wins Oscar           | [Link](https://telex.hu/english/2024/03/11/set-decorator-zsuzsa-mihalek-wins-oscar)        |                                                           |\n",
        "| He's the boss, he's a great leader – Trump hos... | [Link](https://telex.hu/english/2024/03/09/hes-the-boss-hes-a-great-leader-trump-ho...)     | Donald Trump and a small group of his close ad...       |\n",
        "| VSquare: Tusk and Fiala were shouting at Orbán... | [Link](https://telex.hu/english/2024/03/08/vsquare-tusk-and-fiala-were-shouting-at-orban)  | Prime Minister Viktor Orbán of Hungary (L), Pe...       |\n",
        "| Majority holds Orbán responsible for clemency ... | [Link](https://telex.hu/english/2024/03/08/majority-holds-orban-responsible-for-clemency)   | A representative poll conducted by Republikon ...       |\n",
        "| Orbán met with Trump's former senior adviser i... | [Link](https://telex.hu/english/2024/03/07/orban-met-with-trumps-former-senior-adviser-in-washington-dc) | Prime Minister Viktor Orbán spoke on Thursday ...       |\n",
        "| UNESCO warns Hungary against implementing orig... | [Link](https://telex.hu/english/2024/03/07/unesco-warns-hungary-against-implementing-original-boundary-of-ferto-landscape-world-heritage-site) | The Fertő landscape cannot bear any more const...       |\n"
      ],
      "metadata": {
        "id": "GO1VdKSNZewJ"
      }
    },
    {
      "cell_type": "markdown",
      "source": [
        "A cikkek szövegét (text) foglaljuk össze max 80 token hosszúságúra egy summarized mezőbe a facebook/bart-large-cnn modell segítségével.\n",
        "\n"
      ],
      "metadata": {
        "id": "F70hc0uvaStZ"
      }
    },
    {
      "cell_type": "markdown",
      "source": [
        "Az összefoglalás szöveg hangulatát értékeljük a cardiffnlp/twitter-roberta-base-sentiment-latest modell segítségével. A label és score értékeket is adjuk hozzá a dataframe-hez.\n"
      ],
      "metadata": {
        "id": "eFWXnxB0bI4-"
      }
    },
    {
      "cell_type": "markdown",
      "source": [
        "Az összefoglalt angolnyelvű szövegeket fordítsuk le magyar nyelvre."
      ],
      "metadata": {
        "id": "avH9c4cVbssd"
      }
    },
    {
      "cell_type": "markdown",
      "source": [
        "Készítsük elő egy emailhez a datafamet, úgy hogy HTML kóddá alakítjuk az alábbi formátum szerint."
      ],
      "metadata": {
        "id": "VJpJqWbLb46M"
      }
    },
    {
      "cell_type": "markdown",
      "source": [
        "\n",
        "<html>\n",
        "<head>\n",
        "<title></title>\n",
        "</head>\n",
        "<body>\n",
        "<h1>Releváns cikkek összefoglalója</h1>\n",
        "<p>Ez az email a legfrissebb releváns cikkeket foglalja össze.</p>\n",
        "<ul>\n",
        "\n",
        "  <li>\n",
        "    <h2>Hungarian FM summons US ambassador over Biden’s remarks about Orbán</h2>\n",
        "    <p><a href=\"https://telex.hu/english/2024/03/12/hungarian-fm-summons-us-ambassador-over-bidens-remarks-about-orban\">https://telex.hu/english/2024/03/12/hungarian-fm-summons-us-ambassador-over-bidens-remarks-about-orban</a></p>\n",
        "    <p>US President Joe Biden criticised Hungarian Prime Minister Viktor Orbán. The Foreign Ministry has summoned the US Ambassador for an \"urgent\" meeting. The ambassador was asked to produce a quote from the prime minister, but no such statement was made. The US ambassador also said that the official US position is that \"here in Hungary we are building a dictatorship\"</p>\n",
        "    <p>Joe Biden elnök bírálta Orbán Viktor miniszterelnököt. A Külügyminisztérium \"sürgős\" találkozóra hívta össze az amerikai nagykövetet. A nagykövetet felkérték, hogy idézzen a miniszterelnöktől, de nem tett ilyen nyilatkozatot. Az amerikai nagykövet azt is elmondta, hogy a hivatalos amerikai álláspont az, hogy \"itt Magyarországon diktatúrát építünk\"</p>\n",
        "  </li>\n",
        "  \n",
        "  <li>\n",
        "    <h2>Hungarian government only one to vote against EU law on transparency in political advertising</h2>\n",
        "    <p><a href=\"https://telex.hu/english/2024/03/12/hungarian-government-only-one-to-vote-against-eu-law-on-transparency-in-political-advertising\">https://telex.hu/english/2024/03/12/hungarian-government-only-one-to-vote-against-eu-law-on-transparency-in-political-advertising</a></p>\n",
        "    <p>Member states voted on a regulation on transparency in political advertising in the EU Council on Monday. The Hungarian government's representative was the only one to vote against the regulation. A qualified majority (i.e. 15 out of 27 countries accounting for 65% of the EU's total population) was enough for the proposal to pass.</p>\n",
        "    <p>A magyar kormány képviselője volt az egyetlen, aki a rendelet ellen szavazott. A minősített többség (az EU teljes lakosságának 65%-át kitevő 27 ország közül 15) elegendő volt a javaslat elfogadásához.</p>\n",
        "  </li>\n",
        "  \n",
        "  <li>\n",
        "    <h2>Trump-admiring fake Twitter profile delivers perfect case for Sovereignty Protection Authority</h2>\n",
        "    <p><a href=\"https://telex.hu/english/2024/03/12/trump-admiring-fake-twitter-profile-delivers-perfect-case-for-sovereignty-protection-authority\">https://telex.hu/english/2024/03/12/trump-admiring-fake-twitter-profile-delivers-perfect-case-for-sovereignty-protection-authority</a></p>\n",
        "    <p>The government-affiliated press in Hungary has been announcing in unison that there is now definite proof that George Soros funded the Hungarian opposition during the 2022 election campaign. All their articles are referencing videos published on an X (formerly Twitter) account dedicated to praising Donald Trump under the name MagaBabe. The videos feature author Kati Marton, chair of A4D's New York advisory board, and Dávid Korányi, the former advisor to Budapest mayor Gergely Karácsony. According to the government’s propaganda outlets the videos show them admitting</p>\n",
        "    <p> A magyar kormányhoz tartozó sajtó egy időben bejelentette, hogy a 2022-es választási kampány során Soros György támogatta a magyar ellenzéket. Minden cikkük egy X-en (korábban Twitteren) közzétett videókra utal, amelyek Donald Trumpot MagaBabe néven dicsérik. A videók szerzője, Kati Marton, az A4D New York tanácsadó testületének elnöke, valamint Korányi Dávid, Karácsony Gergely volt tanácsadója.</p>\n",
        "  </li>\n",
        "  \n",
        "  <li>\n",
        "    <h2>Orbán: Trump is a legend</h2>\n",
        "    <p><a href=\"https://telex.hu/english/2024/03/11/orban-trump-is-a-legend\">https://telex.hu/english/2024/03/11/orban-trump-is-a-legend</a></p>\n",
        "    <p>Viktor Orbán said he had worked with all seven Hungarian heads of state as PM and therefore had insight into \"what kind of president was suitable for each situation\" The Prime Minister said that if he becomes president again, Trump will not want to fund the security of Europeans nor will he support the US giving money to Ukraine.</p>\n",
        "    <p>Viktor Orbán azt mondta, miniszterelnökként mind a hét magyar államfővel dolgozott együtt, ezért bepillantást nyert \"milyen elnök alkalmas minden helyzetre\" A miniszterelnök azt mondta, hogy ha újra elnök lesz, Trump nem fogja támogatni az európaiak biztonságát, és nem fogja támogatni az USA-t sem, hogy pénzt adjon Ukrajnának.</p>\n",
        "  </li>\n",
        "  \n",
        "  <li>\n",
        "    <h2>Set decorator Zsuzsa Mihalek wins Oscar</h2>\n",
        "    <p><a href=\"https://telex.hu/english/2024/03/11/set-decorator-zsuzsa-mihalek-wins-oscar-for-her-work-on-poor-things\">https://telex.hu/english/2024/03/11/set-decorator-zsuzsa-mihalek-wins-oscar-for-her-work-on-poor-things</a></p>\n",
        "    <p>CNN.com will feature iReporter photos in a weekly Travel Snapshots gallery. Please submit your best shots of the U.S. for next week. Visit CNN.com/Travel next Wednesday for a new gallery of snapshots. Please share your best photos of the United States with CNN iReport.</p>\n",
        "    <p> CNN.com egy heti Travel Snapshots galéria iReporter képekkel. Kérjük, küldje el a legjobb felvételeket az Egyesült Államok a jövő héten. Látogasson el a CNN.com/Utazz jövő szerdán egy új galéria a fényképek. Kérjük, ossza meg a legjobb fotókat az Egyesült Államok a CNN iReport.</p>\n",
        "  </li>\n",
        "  \n",
        "  <li>\n",
        "    <h2>He's the boss, he's a great leader – Trump hosts Orbán in friendly meeting at his Florida estate</h2>\n",
        "    <p><a href=\"https://telex.hu/english/2024/03/09/hes-the-boss-hes-a-great-leader-trump-hosts-orban-in-friendly-meeting-at-his-florida-estate\">https://telex.hu/english/2024/03/09/hes-the-boss-hes-a-great-leader-trump-hosts-orban-in-friendly-meeting-at-his-florida-estate</a></p>\n",
        "    <p>Viktor Orbán and Donald Trump met for about an hour at the former president's estate in Mar-a-Lago, Florida. CNN sources described the meeting as a friendly chat without an agenda. Orbán has traditionally had a tense relationship with Democratic-led US administrations.</p>\n",
        "    <p> Viktor Orbán és Donald Trump körülbelül egy órán át találkoztak a floridai Mar-a-Lago-ban lévő korábbi elnök birtokán. A CNN forrásai szerint a találkozó egy baráti beszélgetés volt napirend nélkül. Orbán hagyományosan feszült kapcsolatban állt a demokrata kormányokkal.</p>\n",
        "  </li>\n",
        "  \n",
        "  <li>\n",
        "    <h2>VSquare: Tusk and Fiala were shouting at Orbán while Fico remained silent</h2>\n",
        "    <p><a href=\"https://telex.hu/english/2024/03/08/vsquare-tusk-and-fiala-were-shouting-at-orban-while-fico-remained-silent\">https://telex.hu/english/2024/03/08/vsquare-tusk-and-fiala-were-shouting-at-orban-while-fico-remained-silent</a></p>\n",
        "    <p>Viktor Orbán of Hungary, Petr Fiala of the Czech Republic, Donald Tusk of Poland and Robert Fico of Slovakia attended the V4 summit in Prague on 27 February 2024. Prime Minister of Hungary Viktor Orbán attended the summit with President of Czech Republic Petr Fischer and Prime Ministers of Poland, Czech Republic and Slovakia.</p>\n",
        "    <p> Orbán Viktor, a Cseh Köztársaság Petr Fiala, a lengyel Donald Tusk és a szlovák Robert Fico részt vett a Prágai V4-csúcstalálkozón 2024. február 27-én.</p>\n",
        "  </li>\n",
        "  \n",
        "  <li>\n",
        "    <h2>Majority holds Orbán responsible for clemency decision, survey shows</h2>\n",
        "    <p><a href=\"https://telex.hu/english/2024/03/08/majority-holds-orban-responsible-for-clemency-decision-survey-shows\">https://telex.hu/english/2024/03/08/majority-holds-orban-responsible-for-clemency-decision-survey-shows</a></p>\n",
        "    <p>Only one in four people are of the opinion that President Katalin Novák, who granted a presidential pardon to Endre K., is responsible. Opposition and governing party voters have very different views on the role of the President and the Prime Minister in the story. One in seven respondents believe that Bishop Zoltán Balog was instrumental in the decision being made.</p>\n",
        "    <p> Novák Katalin elnök, aki K. Endre elnöki kegyelmet adott, csak négyből egynek van véleménye az elnök és a miniszterelnök szerepéről. Hétből egy válaszadó úgy véli, hogy Balog Zoltán püspök fontos szerepet játszott a meghozott döntésben.</p>\n",
        "  </li>\n",
        "  \n",
        "  <li>\n",
        "    <h2>Orbán met with Trump's former senior adviser in Washington D.C.</h2>\n",
        "    <p><a href=\"https://telex.hu/english/2024/03/07/orban-met-with-trumps-former-senior-adviser-in-washington-d-c\">https://telex.hu/english/2024/03/07/orban-met-with-trumps-former-senior-adviser-in-washington-d-c</a></p>\n",
        "    <p>Prime Minister Viktor Orbán spoke on Thursday at a panel discussion about US-Hungarian relations in Washington, DC. The Heritage Foundation has been a major think tank of the American right for decades, and according to Kevin Roberts, its new goal is to institutionalise Trumpism. The audience included some of the most prominent American right-wing politicians, analysts and public figures.</p>\n",
        "    <p>Orbán Viktor miniszterelnök csütörtökön a washingtoni (DC) amerikai-magyar kapcsolatokról tartott megbeszélésen beszélt. A Heritage Foundation évtizedek óta az amerikai jog egyik fő agytrösztje, és Kevin Roberts szerint új célja a Trumpizmus intézményesítése. A közönség a legkiemelkedőbb amerikai jobboldali politikusokat, elemzőket és közszereplőket is magában foglalta.</p>\n",
        "  </li>\n",
        "  \n",
        "  <li>\n",
        "    <h2>UNESCO warns Hungary against implementing original project planned for Lake Fertő</h2>\n",
        "    <p><a href=\"https://telex.hu/english/2024/03/07/unesco-warns-hungary-against-implementing-the-original-project-planned-for-lake-ferto\">https://telex.hu/english/2024/03/07/unesco-warns-hungary-against-implementing-the-original-project-planned-for-lake-ferto</a></p>\n",
        "    <p>Lake Fertő-Neusiedlersee Cultural Landscape has been a World Heritage Site since 2001. UNESCO's team was joined by experts from ICOMOS, the international organisation for the conservation and protection of cultural heritage sites. Their findings show that the lake is already under pressure from development, tourism, hydrological changes as well as the impact of climate change.</p>\n",
        "    <p> Lake Fertő-Neusiedlersee A kulturális táj 2001 óta a világörökség része. Az UNESCO csapatát az ICOMOS, a kulturális örökség megőrzéséért és védelméért felelős nemzetközi szervezet szakemberei is csatlakoztak. Az eredmények azt mutatják, hogy a tónak már a fejlődés, az idegenforgalom, a hidrológiai változások, valamint az éghajlatváltozás hatása is nyomás alatt áll.</p>\n",
        "  </li>\n",
        "  \n",
        "</ul>\n",
        "</body>\n",
        "</html>\n"
      ],
      "metadata": {
        "id": "rjU32-sFdC36"
      }
    },
    {
      "cell_type": "code",
      "source": [
        "!pip install newspaper3k\n",
        "!pip install lxml_html_clean"
      ],
      "metadata": {
        "colab": {
          "base_uri": "https://localhost:8080/"
        },
        "id": "mToHYo7MgOEJ",
        "outputId": "cef1e77e-4fb7-4143-c7a7-56f8c9ed0dac"
      },
      "execution_count": 5,
      "outputs": [
        {
          "output_type": "stream",
          "name": "stdout",
          "text": [
            "Requirement already satisfied: newspaper3k in /usr/local/lib/python3.11/dist-packages (0.2.8)\n",
            "Requirement already satisfied: beautifulsoup4>=4.4.1 in /usr/local/lib/python3.11/dist-packages (from newspaper3k) (4.13.3)\n",
            "Requirement already satisfied: Pillow>=3.3.0 in /usr/local/lib/python3.11/dist-packages (from newspaper3k) (11.1.0)\n",
            "Requirement already satisfied: PyYAML>=3.11 in /usr/local/lib/python3.11/dist-packages (from newspaper3k) (6.0.2)\n",
            "Requirement already satisfied: cssselect>=0.9.2 in /usr/local/lib/python3.11/dist-packages (from newspaper3k) (1.3.0)\n",
            "Requirement already satisfied: lxml>=3.6.0 in /usr/local/lib/python3.11/dist-packages (from newspaper3k) (5.3.1)\n",
            "Requirement already satisfied: nltk>=3.2.1 in /usr/local/lib/python3.11/dist-packages (from newspaper3k) (3.9.1)\n",
            "Requirement already satisfied: requests>=2.10.0 in /usr/local/lib/python3.11/dist-packages (from newspaper3k) (2.32.3)\n",
            "Requirement already satisfied: feedparser>=5.2.1 in /usr/local/lib/python3.11/dist-packages (from newspaper3k) (6.0.11)\n",
            "Requirement already satisfied: tldextract>=2.0.1 in /usr/local/lib/python3.11/dist-packages (from newspaper3k) (5.1.3)\n",
            "Requirement already satisfied: feedfinder2>=0.0.4 in /usr/local/lib/python3.11/dist-packages (from newspaper3k) (0.0.4)\n",
            "Requirement already satisfied: jieba3k>=0.35.1 in /usr/local/lib/python3.11/dist-packages (from newspaper3k) (0.35.1)\n",
            "Requirement already satisfied: python-dateutil>=2.5.3 in /usr/local/lib/python3.11/dist-packages (from newspaper3k) (2.8.2)\n",
            "Requirement already satisfied: tinysegmenter==0.3 in /usr/local/lib/python3.11/dist-packages (from newspaper3k) (0.3)\n",
            "Requirement already satisfied: soupsieve>1.2 in /usr/local/lib/python3.11/dist-packages (from beautifulsoup4>=4.4.1->newspaper3k) (2.6)\n",
            "Requirement already satisfied: typing-extensions>=4.0.0 in /usr/local/lib/python3.11/dist-packages (from beautifulsoup4>=4.4.1->newspaper3k) (4.12.2)\n",
            "Requirement already satisfied: six in /usr/local/lib/python3.11/dist-packages (from feedfinder2>=0.0.4->newspaper3k) (1.17.0)\n",
            "Requirement already satisfied: sgmllib3k in /usr/local/lib/python3.11/dist-packages (from feedparser>=5.2.1->newspaper3k) (1.0.0)\n",
            "Requirement already satisfied: click in /usr/local/lib/python3.11/dist-packages (from nltk>=3.2.1->newspaper3k) (8.1.8)\n",
            "Requirement already satisfied: joblib in /usr/local/lib/python3.11/dist-packages (from nltk>=3.2.1->newspaper3k) (1.4.2)\n",
            "Requirement already satisfied: regex>=2021.8.3 in /usr/local/lib/python3.11/dist-packages (from nltk>=3.2.1->newspaper3k) (2024.11.6)\n",
            "Requirement already satisfied: tqdm in /usr/local/lib/python3.11/dist-packages (from nltk>=3.2.1->newspaper3k) (4.67.1)\n",
            "Requirement already satisfied: charset-normalizer<4,>=2 in /usr/local/lib/python3.11/dist-packages (from requests>=2.10.0->newspaper3k) (3.4.1)\n",
            "Requirement already satisfied: idna<4,>=2.5 in /usr/local/lib/python3.11/dist-packages (from requests>=2.10.0->newspaper3k) (3.10)\n",
            "Requirement already satisfied: urllib3<3,>=1.21.1 in /usr/local/lib/python3.11/dist-packages (from requests>=2.10.0->newspaper3k) (2.3.0)\n",
            "Requirement already satisfied: certifi>=2017.4.17 in /usr/local/lib/python3.11/dist-packages (from requests>=2.10.0->newspaper3k) (2025.1.31)\n",
            "Requirement already satisfied: requests-file>=1.4 in /usr/local/lib/python3.11/dist-packages (from tldextract>=2.0.1->newspaper3k) (2.1.0)\n",
            "Requirement already satisfied: filelock>=3.0.8 in /usr/local/lib/python3.11/dist-packages (from tldextract>=2.0.1->newspaper3k) (3.18.0)\n",
            "Collecting lxml_html_clean\n",
            "  Downloading lxml_html_clean-0.4.1-py3-none-any.whl.metadata (2.4 kB)\n",
            "Requirement already satisfied: lxml in /usr/local/lib/python3.11/dist-packages (from lxml_html_clean) (5.3.1)\n",
            "Downloading lxml_html_clean-0.4.1-py3-none-any.whl (14 kB)\n",
            "Installing collected packages: lxml_html_clean\n",
            "Successfully installed lxml_html_clean-0.4.1\n"
          ]
        }
      ]
    },
    {
      "cell_type": "code",
      "source": [
        "import requests\n",
        "from bs4 import BeautifulSoup\n",
        "import pandas as pd\n",
        "from newspaper import Article\n",
        "\n",
        "url = 'https://telex.hu/english?oldal=1'\n",
        "news = []\n",
        "\n",
        "\n",
        "try:\n",
        "    response = requests.get(url)\n",
        "    response.raise_for_status()\n",
        "except requests.exceptions.RequestException as e:\n",
        "    print(e)\n",
        "    sys.exit(1)\n",
        "\n",
        "soup = BeautifulSoup(response.content, 'html.parser')\n",
        "\n",
        "articles = soup.find_all('a', class_=\"list__item__title\", href=True)\n",
        "\n",
        "df = pd.DataFrame(columns=['Title', 'Link', 'Text'])\n",
        "\n",
        "for article in articles:\n",
        "    title = article.find(class_=\"hasHighlight\").text.strip()\n",
        "    link = f'https://telex.hu' + article[\"href\"]\n",
        "    article = Article(link)\n",
        "    article.download()\n",
        "    article.parse()\n",
        "    text = article.text\n",
        "    news.append({\"title\": title, \"link\": link, \"text\": text})\n",
        "\n",
        "df = pd.DataFrame(news)\n",
        "df.to_csv(\"telex_english_news.csv\", index=False)\n",
        "\n",
        "print(df)"
      ],
      "metadata": {
        "colab": {
          "base_uri": "https://localhost:8080/"
        },
        "id": "aSwp3hk5fl0t",
        "outputId": "d4e3423b-bb95-4337-bc41-9513acd62c31"
      },
      "execution_count": 6,
      "outputs": [
        {
          "output_type": "stream",
          "name": "stdout",
          "text": [
            "                                               title  \\\n",
            "0  The Serbs may have exaggerated the Serbian-Hun...   \n",
            "1  I like to take pictures at the local supermark...   \n",
            "2  The Vietnamese couriers we were making a film ...   \n",
            "3  VSquare: Orbán ordered intelligence services t...   \n",
            "4   Orbán and Putin's model: to see it is to love it   \n",
            "5  Hungarian parliament adopts law banning Budape...   \n",
            "6      Nuclear weapons in Europe: who protects whom?   \n",
            "7  Soviet mortar grenade discovered stuck in tree...   \n",
            "8  Bugs, cockroaches, vermin – how dehumanising p...   \n",
            "9    Magyar announces 12-point referendum of his own   \n",
            "\n",
            "                                                link  \\\n",
            "0  https://telex.hu/english/2025/03/25/the-serbs-...   \n",
            "1  https://telex.hu/english/2025/03/24/martin-par...   \n",
            "2  https://telex.hu/english/2025/03/24/the-vietna...   \n",
            "3  https://telex.hu/english/2025/03/21/vsquare-or...   \n",
            "4  https://telex.hu/english/2025/03/20/orban-and-...   \n",
            "5  https://telex.hu/english/2025/03/19/hungarian-...   \n",
            "6  https://telex.hu/english/2025/03/19/arte-nucle...   \n",
            "7  https://telex.hu/english/2025/03/17/soviet-mor...   \n",
            "8  https://telex.hu/english/2025/03/17/bugs-cockr...   \n",
            "9  https://telex.hu/english/2025/03/15/magyar-ann...   \n",
            "\n",
            "                                                text  \n",
            "0  It’s been ordered from the top to have an othe...  \n",
            "1  \"The spice and the source of beauty is – the f...  \n",
            "2  There are already 120,000 guest workers in Hun...  \n",
            "3  Shortly before his speech on 15 March, Viktor ...  \n",
            "4  The restriction of the fundamental right to fr...  \n",
            "5  On the grounds of protecting children, Hungary...  \n",
            "6  With the U.S. becoming an unpredictable ally u...  \n",
            "7                                                     \n",
            "8  \"After today's festive gathering comes the Eas...  \n",
            "9  Hungary's most significant opposition party he...  \n"
          ]
        }
      ]
    },
    {
      "cell_type": "code",
      "source": [
        "from transformers import AutoTokenizer, BartForConditionalGeneration, RobertaForSequenceClassification, AutoModelForSeq2SeqLM\n",
        "import torch\n",
        "\n",
        "model_bart = BartForConditionalGeneration.from_pretrained(\"facebook/bart-large-cnn\")\n",
        "tokenizer_bart = AutoTokenizer.from_pretrained(\"facebook/bart-large-cnn\")\n",
        "\n",
        "tokenizer_roberta = AutoTokenizer.from_pretrained(\"cardiffnlp/twitter-roberta-base-emotion\")\n",
        "model_roberta = RobertaForSequenceClassification.from_pretrained(\"cardiffnlp/twitter-roberta-base-emotion\")\n",
        "\n",
        "tokenizer_helsinki = AutoTokenizer.from_pretrained(\"Helsinki-NLP/opus-mt-en-hu\")\n",
        "model_helsinki = AutoModelForSeq2SeqLM.from_pretrained(\"Helsinki-NLP/opus-mt-en-hu\")\n",
        "\n",
        "for class_id, label in model_roberta.config.id2label.items():\n",
        "    print(f\"Class ID {class_id}: {label}\")\n"
      ],
      "metadata": {
        "colab": {
          "base_uri": "https://localhost:8080/"
        },
        "id": "9lNJDaSsiGLA",
        "outputId": "b1f8847d-2279-46c0-c366-7c4d8a9a5e55"
      },
      "execution_count": 29,
      "outputs": [
        {
          "output_type": "stream",
          "name": "stderr",
          "text": [
            "/usr/local/lib/python3.11/dist-packages/transformers/models/marian/tokenization_marian.py:175: UserWarning: Recommended: pip install sacremoses.\n",
            "  warnings.warn(\"Recommended: pip install sacremoses.\")\n"
          ]
        },
        {
          "output_type": "stream",
          "name": "stdout",
          "text": [
            "Class ID 0: joy\n",
            "Class ID 1: optimism\n",
            "Class ID 2: anger\n",
            "Class ID 3: sadness\n"
          ]
        }
      ]
    },
    {
      "cell_type": "code",
      "source": [
        "labels = []\n",
        "scores = []\n",
        "summed_texts = []\n",
        "translated_texts = []\n",
        "\n",
        "for index, row in df.iterrows():\n",
        "  article_text = row[\"text\"]\n",
        "  inputs_bart = tokenizer_bart([article_text], max_length=1024, return_tensors=\"pt\")\n",
        "  summary_ids = model_bart.generate(inputs_bart[\"input_ids\"], num_beams=2, min_length=0, max_length=80)\n",
        "  summed_text = tokenizer_bart.batch_decode(summary_ids, skip_special_tokens=True, clean_up_tokenization_spaces=False)[0]\n",
        "  summed_texts.append(summed_text)\n",
        "\n",
        "  inputs_roberta = tokenizer_roberta(summed_text, return_tensors=\"pt\")\n",
        "\n",
        "  with torch.no_grad():\n",
        "      logits = model_roberta(**inputs_roberta).logits\n",
        "\n",
        "  predicted_class_id = logits.argmax().item()\n",
        "  label = model_roberta.config.id2label[predicted_class_id]\n",
        "  labels.append(label)\n",
        "  score = logits[0][predicted_class_id].item()\n",
        "  scores.append(score)\n",
        "\n",
        "  inputs_helsinki = tokenizer_helsinki(summed_text, return_tensors=\"pt\", max_length=512, truncation=True)\n",
        "  outputs_helsinki = model_helsinki.generate(**inputs_helsinki)\n",
        "\n",
        "  translated_text = tokenizer_helsinki.decode(outputs_helsinki[0], skip_special_tokens=True)\n",
        "  translated_texts.append(translated_text)\n",
        "  print(score, label, predicted_class_id, translated_text)"
      ],
      "metadata": {
        "colab": {
          "base_uri": "https://localhost:8080/"
        },
        "id": "Ho0IYaquvIYk",
        "outputId": "e5987b61-9abd-4884-eb4b-a03b8ffbb73c"
      },
      "execution_count": 31,
      "outputs": [
        {
          "output_type": "stream",
          "name": "stdout",
          "text": [
            "1.311299204826355 anger 2 Szerbia és Magyarország a szerb média szerint a kétoldalú katonai együttműködés létrehozásának \"komoly szakaszába\" lépett. Április elején miniszteri szinten aláírják a megállapodást annak érdekében, hogy nagyobb politikai súlyt adjanak a már meglévő megállapodásnak. Úgy tűnik, hogy a megállapodás célja elsősorban politikai.\n",
            "2.3081634044647217 optimism 1 Martin Parr a kortárs dokumentumfilmek egyik legbefolyásosabb művésze. 14 éves korában kezdett el fekete-fehér filmet forgatni nagyapja befolyása miatt, aki hobbifotós volt. Az 1980-as években színes filmre váltott, a Thatcher-korszak utolsó mohikánjait, a munkásosztályt és a feltörekvő középosztály arcait fényképezte le.\n",
            "2.113398551940918 joy 0 A magyarok szinte semmit sem tudnak a vendégmunkások túlnyomó többségéről. A kormány megpróbálta azt a benyomást kelteni, hogy a rendszer jól szabályozott.\n",
            "2.0199191570281982 joy 0 Orbán Viktor arra utasította a Nemzeti Információs Központot (NIC), hogy készítsen jelentést és listát azokról a nem kormányzati szervezetekről és sajtótermékekről, amelyek az elmúlt tíz évben külföldi támogatásban részesültek. A VSquare által kapott információk szerint Orbán megrendelése csak az emberi jogokra és érdekvédelmi csoportokra és független médiaszolgáltatókra vonatkozik. Az NIC-nek adott megbízás természetesen nem vonatkozik a kínaira.\n",
            "1.792452096939087 joy 0 Orbán Viktort sokan az orosz politikai modell magyar változatát próbálják megalkotni. A kritikusok lelkesen állítják elő azt az elméletet, hogy valamilyen kényszer alatt állt, hogy a magyar kormány vezetője formálja Magyarország külpolitikáját.\n",
            "2.476050853729248 joy 0 Magyarországon a Fidesz-KDNP koalíció irányítása korlátozza a gyülekezési jogot. Kedd délután a Parlament a Pride betiltásáról szóló törvényjavaslat mellett szavazott. A jövőben Magyarországon tilos lesz a homoszexualitást támogató gyűléseket tartani. Az ilyen esemény szervezői és résztvevői akár 200 000 forintot is megbírságolhatnak.\n",
            "1.6443724632263184 anger 2 Ezen a héten az ARTE Europe Weekly-n lebontjuk, hogy kinél vannak a nukleáris kártyák, és hogyan kényszerítheti Európát arra, hogy újraindítsa biztonsági stratégiáját.\n",
            "2.2521867752075195 optimism 1 CNN.com feature iReporter photos in a weekly Travel Snapshots gallery. Kérjük, küldje el a legjobb felvételeket az Egyesült Államok a jövő héten. Látogasson el a CNN.com/Travel jövő szerdán egy új galéria a pillanatképeket.\n",
            "2.9850242137908936 joy 0 Orbán Viktor miniszterelnök azokat hasonlította össze, akik nem értenek egyet a bogarakkal. A többi ellenzéki párt is elítélte a kijelentést, a Magyar Bírák Egyesülete is elutasította az összehasonlítást. Hasonló retorikát használtak a diktátorok és az autokraták a történelem során.\n",
            "1.4607958793640137 optimism 1 Magyarország legjelentősebb ellenzéki pártja az 1848-as forradalomról megemlékezett ugyanazon a helyen, ahol minden pontosan egy évvel ezelőtt kezdődött a Tiszán. A márciusi Ifjúság (Márciusi Ifjak) üzenete ma fontosabb, mint valaha - mondta Magyar Péter.\n"
          ]
        }
      ]
    },
    {
      "cell_type": "code",
      "source": [
        "df['Emotion_Label'] = labels\n",
        "df['Emotion_Score'] = scores\n",
        "df['Summed_text'] = summed_texts\n",
        "df['Summed_translated_text'] = translated_texts\n",
        "\n",
        "print(df)"
      ],
      "metadata": {
        "colab": {
          "base_uri": "https://localhost:8080/"
        },
        "id": "SUA8j9Tzwf--",
        "outputId": "998d0bc0-56ce-4445-b59a-9d3ed0640044"
      },
      "execution_count": 32,
      "outputs": [
        {
          "output_type": "stream",
          "name": "stdout",
          "text": [
            "                                               title  \\\n",
            "0  The Serbs may have exaggerated the Serbian-Hun...   \n",
            "1  I like to take pictures at the local supermark...   \n",
            "2  The Vietnamese couriers we were making a film ...   \n",
            "3  VSquare: Orbán ordered intelligence services t...   \n",
            "4   Orbán and Putin's model: to see it is to love it   \n",
            "5  Hungarian parliament adopts law banning Budape...   \n",
            "6      Nuclear weapons in Europe: who protects whom?   \n",
            "7  Soviet mortar grenade discovered stuck in tree...   \n",
            "8  Bugs, cockroaches, vermin – how dehumanising p...   \n",
            "9    Magyar announces 12-point referendum of his own   \n",
            "\n",
            "                                                link  \\\n",
            "0  https://telex.hu/english/2025/03/25/the-serbs-...   \n",
            "1  https://telex.hu/english/2025/03/24/martin-par...   \n",
            "2  https://telex.hu/english/2025/03/24/the-vietna...   \n",
            "3  https://telex.hu/english/2025/03/21/vsquare-or...   \n",
            "4  https://telex.hu/english/2025/03/20/orban-and-...   \n",
            "5  https://telex.hu/english/2025/03/19/hungarian-...   \n",
            "6  https://telex.hu/english/2025/03/19/arte-nucle...   \n",
            "7  https://telex.hu/english/2025/03/17/soviet-mor...   \n",
            "8  https://telex.hu/english/2025/03/17/bugs-cockr...   \n",
            "9  https://telex.hu/english/2025/03/15/magyar-ann...   \n",
            "\n",
            "                                                text Emotion_Label  \\\n",
            "0  It’s been ordered from the top to have an othe...         anger   \n",
            "1  \"The spice and the source of beauty is – the f...      optimism   \n",
            "2  There are already 120,000 guest workers in Hun...           joy   \n",
            "3  Shortly before his speech on 15 March, Viktor ...           joy   \n",
            "4  The restriction of the fundamental right to fr...           joy   \n",
            "5  On the grounds of protecting children, Hungary...           joy   \n",
            "6  With the U.S. becoming an unpredictable ally u...         anger   \n",
            "7                                                         optimism   \n",
            "8  \"After today's festive gathering comes the Eas...           joy   \n",
            "9  Hungary's most significant opposition party he...      optimism   \n",
            "\n",
            "   Emotion_Score                                        Summed_text  \\\n",
            "0       1.311299  Serbia and Hungary have entered the \"serious p...   \n",
            "1       2.308163  Martin Parr is one of the most influential art...   \n",
            "2       2.113399  Hungarians know almost nothing about the vast ...   \n",
            "3       2.019919  PM Viktor Orbán ordered the National Informati...   \n",
            "4       1.792452  Viktor Orbán is seen by many as trying to crea...   \n",
            "5       2.476051  Hungary's governing Fidesz-KDNP coalition is r...   \n",
            "6       1.644372  This week on ARTE Europe Weekly, we break down...   \n",
            "7       2.252187  CNN.com will feature iReporter photos in a wee...   \n",
            "8       2.985024  Prime Minister Viktor Orbán compared those who...   \n",
            "9       1.460796  Hungary's most significant opposition party he...   \n",
            "\n",
            "                              Summed_translated_text  \n",
            "0  Szerbia és Magyarország a szerb média szerint ...  \n",
            "1  Martin Parr a kortárs dokumentumfilmek egyik l...  \n",
            "2  A magyarok szinte semmit sem tudnak a vendégmu...  \n",
            "3  Orbán Viktor arra utasította a Nemzeti Informá...  \n",
            "4  Orbán Viktort sokan az orosz politikai modell ...  \n",
            "5  Magyarországon a Fidesz-KDNP koalíció irányítá...  \n",
            "6  Ezen a héten az ARTE Europe Weekly-n lebontjuk...  \n",
            "7  CNN.com feature iReporter photos in a weekly T...  \n",
            "8  Orbán Viktor miniszterelnök azokat hasonlított...  \n",
            "9  Magyarország legjelentősebb ellenzéki pártja a...  \n"
          ]
        }
      ]
    },
    {
      "cell_type": "code",
      "source": [
        "html = \"\"\"\n",
        "<html>\n",
        "<head>\n",
        "<title>Releváns cikkek összefoglalója</title>\n",
        "</head>\n",
        "<body>\n",
        "<h1>Releváns cikkek összefoglalója</h1>\n",
        "<p>Ez az email a legfrissebb releváns cikkeket foglalja össze.</p>\n",
        "<ul>\n",
        "\"\"\"\n",
        "\n",
        "for i in range(len(df)):\n",
        "  html += f\"\"\"\n",
        "  <li>\n",
        "    <h2>{df['title'].iloc[i]}</h2>\n",
        "    <p><a href=\"{df['link'].iloc[i]}\">{df['link'].iloc[i]}</a></p>\n",
        "    <p>{df['Summed_text'].iloc[i]}</p>\n",
        "    <p>{df['Summed_translated_text'].iloc[i]}</p>\n",
        "  </li>\n",
        "  \"\"\"\n",
        "\n",
        "html += \"\"\"\n",
        "</ul>\n",
        "</body>\n",
        "</html>\n",
        "\"\"\""
      ],
      "metadata": {
        "id": "3rtDIIQj3MOC"
      },
      "execution_count": 34,
      "outputs": []
    },
    {
      "cell_type": "code",
      "source": [
        "from IPython.display import HTML, display\n",
        "\n",
        "display(HTML(html))"
      ],
      "metadata": {
        "colab": {
          "base_uri": "https://localhost:8080/",
          "height": 1000
        },
        "id": "7-dXg4QM3LTR",
        "outputId": "f0d40174-c7e9-4fa4-a8de-34f9306ba11c"
      },
      "execution_count": 35,
      "outputs": [
        {
          "output_type": "display_data",
          "data": {
            "text/plain": [
              "<IPython.core.display.HTML object>"
            ],
            "text/html": [
              "\n",
              "<html>\n",
              "<head>\n",
              "<title>Releváns cikkek összefoglalója</title>\n",
              "</head>\n",
              "<body>\n",
              "<h1>Releváns cikkek összefoglalója</h1>\n",
              "<p>Ez az email a legfrissebb releváns cikkeket foglalja össze.</p>\n",
              "<ul>\n",
              "\n",
              "  <li>\n",
              "    <h2>The Serbs may have exaggerated the Serbian-Hungarian military cooperation, but Orbán doesn't seem...</h2>\n",
              "    <p><a href=\"https://telex.hu/english/2025/03/25/the-serbs-may-have-exaggerated-the-serbian-hungarian-military-cooperation-but-orban-doesnt-seem-to-mind\">https://telex.hu/english/2025/03/25/the-serbs-may-have-exaggerated-the-serbian-hungarian-military-cooperation-but-orban-doesnt-seem-to-mind</a></p>\n",
              "    <p>Serbia and Hungary have entered the \"serious phase\" of establishing bilateral military cooperation, according to Serbian media. The agreement will be signed at ministerial level at the beginning of April, in order to give more political weight to the already existing agreement. The purpose of the agreement also appears to be primarily political.</p>\n",
              "    <p>Szerbia és Magyarország a szerb média szerint a kétoldalú katonai együttműködés létrehozásának \"komoly szakaszába\" lépett. Április elején miniszteri szinten aláírják a megállapodást annak érdekében, hogy nagyobb politikai súlyt adjanak a már meglévő megállapodásnak. Úgy tűnik, hogy a megállapodás célja elsősorban politikai.</p>\n",
              "  </li>\n",
              "  \n",
              "  <li>\n",
              "    <h2>I like to take pictures at the local supermarket, rather than in a war zone</h2>\n",
              "    <p><a href=\"https://telex.hu/english/2025/03/24/martin-parr-telex-english\">https://telex.hu/english/2025/03/24/martin-parr-telex-english</a></p>\n",
              "    <p>Martin Parr is one of the most influential artists of contemporary documentary photography. He started shooting on black and white film at the age of 14 due to the influence of his grandfather who was a hobby photographer. He switched to colour film in the 1980s, photographing the last of the Thatcher era's Mohicans, the working class and the faces of the emerging middle class.</p>\n",
              "    <p>Martin Parr a kortárs dokumentumfilmek egyik legbefolyásosabb művésze. 14 éves korában kezdett el fekete-fehér filmet forgatni nagyapja befolyása miatt, aki hobbifotós volt. Az 1980-as években színes filmre váltott, a Thatcher-korszak utolsó mohikánjait, a munkásosztályt és a feltörekvő középosztály arcait fényképezte le.</p>\n",
              "  </li>\n",
              "  \n",
              "  <li>\n",
              "    <h2>The Vietnamese couriers we were making a film about suddenly disappeared from the streets, but we...</h2>\n",
              "    <p><a href=\"https://telex.hu/english/2025/03/24/the-vietnamese-couriers-we-were-making-a-film-about-suddenly-disappeared-from-the-streets-but-we-looked-them-up\">https://telex.hu/english/2025/03/24/the-vietnamese-couriers-we-were-making-a-film-about-suddenly-disappeared-from-the-streets-but-we-looked-them-up</a></p>\n",
              "    <p>Hungarians know almost nothing about the vast majority of guest workers. The government has tried to create the impression that the system is well regulated.</p>\n",
              "    <p>A magyarok szinte semmit sem tudnak a vendégmunkások túlnyomó többségéről. A kormány megpróbálta azt a benyomást kelteni, hogy a rendszer jól szabályozott.</p>\n",
              "  </li>\n",
              "  \n",
              "  <li>\n",
              "    <h2>VSquare: Orbán ordered intelligence services to compile blacklist of foreign-funded NGOs and media</h2>\n",
              "    <p><a href=\"https://telex.hu/english/2025/03/21/vsquare-orban-ordered-intelligence-services-to-compile-blacklist-of-foreign-funded-ngos-and-media\">https://telex.hu/english/2025/03/21/vsquare-orban-ordered-intelligence-services-to-compile-blacklist-of-foreign-funded-ngos-and-media</a></p>\n",
              "    <p>PM Viktor Orbán ordered the National Information Centre (NIC) to prepare a report and a list of NGOs and press products which have received foreign funding in the past ten years. According to the information received by VSquare, Orbán's order only applies to human rights and advocacy groups and independent media outlets. The order given to the NIC is, of course, not applicable to Chinese</p>\n",
              "    <p>Orbán Viktor arra utasította a Nemzeti Információs Központot (NIC), hogy készítsen jelentést és listát azokról a nem kormányzati szervezetekről és sajtótermékekről, amelyek az elmúlt tíz évben külföldi támogatásban részesültek. A VSquare által kapott információk szerint Orbán megrendelése csak az emberi jogokra és érdekvédelmi csoportokra és független médiaszolgáltatókra vonatkozik. Az NIC-nek adott megbízás természetesen nem vonatkozik a kínaira.</p>\n",
              "  </li>\n",
              "  \n",
              "  <li>\n",
              "    <h2>Orbán and Putin's model: to see it is to love it</h2>\n",
              "    <p><a href=\"https://telex.hu/english/2025/03/20/orban-and-putins-model-to-see-it-is-to-love-it\">https://telex.hu/english/2025/03/20/orban-and-putins-model-to-see-it-is-to-love-it</a></p>\n",
              "    <p>Viktor Orbán is seen by many as trying to create the Hungarian version of the Russian political model. Critics are keen to put forward theories that it was under some kind of coercion that the head of the Hungarian government has been shaping Hungary's foreign policy.</p>\n",
              "    <p>Orbán Viktort sokan az orosz politikai modell magyar változatát próbálják megalkotni. A kritikusok lelkesen állítják elő azt az elméletet, hogy valamilyen kényszer alatt állt, hogy a magyar kormány vezetője formálja Magyarország külpolitikáját.</p>\n",
              "  </li>\n",
              "  \n",
              "  <li>\n",
              "    <h2>Hungarian parliament adopts law banning Budapest Pride</h2>\n",
              "    <p><a href=\"https://telex.hu/english/2025/03/19/hungarian-parliament-adopts-law-banning-pride\">https://telex.hu/english/2025/03/19/hungarian-parliament-adopts-law-banning-pride</a></p>\n",
              "    <p>Hungary's governing Fidesz-KDNP coalition is restricting the right of assembly. On Tuesday afternoon Parliament voted in favour of a bill to ban Pride. In the future, it will be forbidden in Hungary to hold rallies promoting homosexuality. Both the organisers and the participants of such an event could be fined up to 200,000 forints.</p>\n",
              "    <p>Magyarországon a Fidesz-KDNP koalíció irányítása korlátozza a gyülekezési jogot. Kedd délután a Parlament a Pride betiltásáról szóló törvényjavaslat mellett szavazott. A jövőben Magyarországon tilos lesz a homoszexualitást támogató gyűléseket tartani. Az ilyen esemény szervezői és résztvevői akár 200 000 forintot is megbírságolhatnak.</p>\n",
              "  </li>\n",
              "  \n",
              "  <li>\n",
              "    <h2>Nuclear weapons in Europe: who protects whom?</h2>\n",
              "    <p><a href=\"https://telex.hu/english/2025/03/19/arte-nuclear-weapons-europe\">https://telex.hu/english/2025/03/19/arte-nuclear-weapons-europe</a></p>\n",
              "    <p>This week on ARTE Europe Weekly, we break down who holds the nuclear cards and how Trump’s policies could force Europe to reset its security strategy.</p>\n",
              "    <p>Ezen a héten az ARTE Europe Weekly-n lebontjuk, hogy kinél vannak a nukleáris kártyák, és hogyan kényszerítheti Európát arra, hogy újraindítsa biztonsági stratégiáját.</p>\n",
              "  </li>\n",
              "  \n",
              "  <li>\n",
              "    <h2>Soviet mortar grenade discovered stuck in tree near Hungarian village</h2>\n",
              "    <p><a href=\"https://telex.hu/english/2025/03/17/soviet-mortar-grenade-discovered-stuck-in-a-tree\">https://telex.hu/english/2025/03/17/soviet-mortar-grenade-discovered-stuck-in-a-tree</a></p>\n",
              "    <p>CNN.com will feature iReporter photos in a weekly Travel Snapshots gallery. Please submit your best shots of the U.S. for next week. Visit CNN.com/Travel next Wednesday for a new gallery of snapshots.</p>\n",
              "    <p>CNN.com feature iReporter photos in a weekly Travel Snapshots gallery. Kérjük, küldje el a legjobb felvételeket az Egyesült Államok a jövő héten. Látogasson el a CNN.com/Travel jövő szerdán egy új galéria a pillanatképeket.</p>\n",
              "  </li>\n",
              "  \n",
              "  <li>\n",
              "    <h2>Bugs, cockroaches, vermin – how dehumanising propaganda sets the stage</h2>\n",
              "    <p><a href=\"https://telex.hu/english/2025/03/17/bugs-cockroaches-vermin-how-dehumanising-propaganda-sets-the-stage\">https://telex.hu/english/2025/03/17/bugs-cockroaches-vermin-how-dehumanising-propaganda-sets-the-stage</a></p>\n",
              "    <p>Prime Minister Viktor Orbán compared those who don't agree with his policies to bugs. The other opposition parties also condemned the statement. The Association of Hungarian Judges also rejected the comparison. Similar rhetoric has been used by dictators and autocrats throughout history.</p>\n",
              "    <p>Orbán Viktor miniszterelnök azokat hasonlította össze, akik nem értenek egyet a bogarakkal. A többi ellenzéki párt is elítélte a kijelentést, a Magyar Bírák Egyesülete is elutasította az összehasonlítást. Hasonló retorikát használtak a diktátorok és az autokraták a történelem során.</p>\n",
              "  </li>\n",
              "  \n",
              "  <li>\n",
              "    <h2>Magyar announces 12-point referendum of his own</h2>\n",
              "    <p><a href=\"https://telex.hu/english/2025/03/15/magyar-announces-12-point-referendum-of-his-own\">https://telex.hu/english/2025/03/15/magyar-announces-12-point-referendum-of-his-own</a></p>\n",
              "    <p>Hungary's most significant opposition party held its commemoration of the 1848 revolution in the same location where it all started for the Tisza exactly a year ago. The message of the March Youth (Márciusi Ifjak) is more relevant today than ever, Péter Magyar said.</p>\n",
              "    <p>Magyarország legjelentősebb ellenzéki pártja az 1848-as forradalomról megemlékezett ugyanazon a helyen, ahol minden pontosan egy évvel ezelőtt kezdődött a Tiszán. A márciusi Ifjúság (Márciusi Ifjak) üzenete ma fontosabb, mint valaha - mondta Magyar Péter.</p>\n",
              "  </li>\n",
              "  \n",
              "</ul>\n",
              "</body>\n",
              "</html>\n"
            ]
          },
          "metadata": {}
        }
      ]
    }
  ]
}